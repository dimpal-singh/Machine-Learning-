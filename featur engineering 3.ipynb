{
 "cells": [
  {
   "cell_type": "markdown",
   "id": "28ee6f69-daf2-4de3-8a18-688b86d9cd92",
   "metadata": {},
   "source": [
    "## Q1. What is data encoding? How is it useful in data science?"
   ]
  },
  {
   "cell_type": "markdown",
   "id": "4cbec30e-3159-4596-b0f8-538e17e8bdc3",
   "metadata": {},
   "source": [
    "Data encoding is the process of converting categorical data into numerical data so that it can be used by machine learning algorithms. Categorical data is data that can be classified into different categories, such as gender, color, or country. Machine learning algorithms can only work with numerical data, so data encoding is necessary to convert categorical data into a format that machine learning algorithms can understand.\n",
    "\n",
    "There are many different data encoding techniques, but some of the most common include:\n",
    "\n",
    "* Label encoding: This technique assigns a unique integer value to each category in the data. For example, if the data contains the categorical feature \"gender\", with the categories \"male\" and \"female\", then label encoding would assign the integer value 1 to \"male\" and the integer value 2 to \"female\".\n",
    "* One-hot encoding: This technique creates a new binary feature for each category in the data. For example, if the data contains the categorical feature \"gender\", with the categories \"male\" and \"female\", then one-hot encoding would create two new features: \"gender_male\" and \"gender_female\". The \"gender_male\" feature would be set to 1 for data points where the gender is \"male\" and 0 for data points where the gender is \"female\". The \"gender_female\" feature would be set to 1 for data points where the gender is \"female\" and 0 for data points where the gender is \"male\".\n",
    "\n",
    "Data encoding is useful in data science because it allows machine learning algorithms to be used on categorical data. Machine learning algorithms are powerful tools for solving a variety of problems, but they can only work with numerical data. Data encoding allows us to convert categorical data into numerical data so that we can use machine learning algorithms to solve problems that involve categorical data.\n",
    "\n",
    "Here are some examples of how data encoding is used in data science:\n",
    "\n",
    "* **Predicting customer churn:** A company might want to use machine learning to predict which customers are likely to churn (cancel their service). The company's data might include categorical features such as the customer's gender, age, and location. In order to use machine learning to predict customer churn, the company would need to encode these categorical features into numerical data.\n",
    "* **Recommending products to customers:** An online retailer might want to use machine learning to recommend products to customers. The retailer's data might include categorical features such as the customer's past purchases, gender, and age. In order to use machine learning to recommend products to customers, the retailer would need to encode these categorical features into numerical data.\n",
    "* **Detecting fraud:** A financial institution might want to use machine learning to detect fraudulent transactions. The financial institution's data might include categorical features such as the transaction type, merchant location, and customer account type. In order to use machine learning to detect fraud, the financial institution would need to encode these categorical features into numerical data.\n",
    "\n"
   ]
  },
  {
   "cell_type": "code",
   "execution_count": null,
   "id": "4a21292d-9a76-4bb4-9d55-0b0524b9ef41",
   "metadata": {},
   "outputs": [],
   "source": []
  },
  {
   "cell_type": "markdown",
   "id": "c603391b-a1a4-4404-85f5-7ec971c867cc",
   "metadata": {},
   "source": [
    "## Q2. What is nominal encoding? Provide an example of how you would use it in a real-world scenario."
   ]
  },
  {
   "cell_type": "markdown",
   "id": "cee54e75-80ca-4eb2-aaa2-daf13bcd691e",
   "metadata": {},
   "source": [
    "Nominal encoding is a type of data encoding that is used to convert categorical data into numerical data. Nominal data is data that can be classified into different categories, but the categories do not have a natural order. For example, gender, color, and country are all examples of nominal data.\n",
    "\n",
    "Nominal encoding is typically performed using a technique called label encoding. Label encoding assigns a unique integer value to each category in the data. For example, if the data contains the categorical feature \"gender\", with the categories \"male\" and \"female\", then label encoding would assign the integer value 1 to \"male\" and the integer value 2 to \"female\".\n",
    "\n",
    "Here is an example of how to use nominal encoding in a real-world scenario:\n",
    "\n",
    "Scenario: A company wants to use a machine learning algorithm to predict customer churn. The company's data contains a categorical feature called \"gender\". The company wants to use nominal encoding to convert the \"gender\" feature into numerical data so that it can be used by the machine learning algorithm."
   ]
  },
  {
   "cell_type": "code",
   "execution_count": 10,
   "id": "6e3173c6-a420-499f-a3ba-9caa503ae221",
   "metadata": {},
   "outputs": [
    {
     "name": "stdout",
     "output_type": "stream",
     "text": [
      "{'gender': [1, 2]}\n"
     ]
    }
   ],
   "source": [
    "import numpy as np\n",
    "\n",
    "# Create a dataset\n",
    "X = {\"gender\": [\"male\", \"female\"]}\n",
    "\n",
    "# Encode the \"gender\" feature using nominal encoding\n",
    "gender_map = {\n",
    "    \"male\": 1,\n",
    "    \"female\": 2\n",
    "}\n",
    "\n",
    "encoded_gender = []\n",
    "for gender in X[\"gender\"]:\n",
    "    encoded_gender.append(gender_map[gender])\n",
    "\n",
    "X[\"gender\"] = encoded_gender\n",
    "\n",
    "# Print the encoded data\n",
    "print(X)\n"
   ]
  },
  {
   "cell_type": "markdown",
   "id": "079fddb5-0806-4761-b4c0-d222fdce4ddf",
   "metadata": {},
   "source": [
    "Benefits of using nominal encoding:\n",
    "\n",
    "It is a simple and straightforward technique to encode categorical data.\n",
    "It is efficient and can be used to encode large datasets quickly.\n",
    "It is easy to interpret the results of machine learning algorithms that have been trained on encoded data.\n",
    "Drawbacks of using nominal encoding:\n",
    "\n",
    "It can create spurious correlations between the encoded features.\n",
    "It can increase the dimensionality of the dataset, which can make it more difficult to train machine learning algorithms."
   ]
  },
  {
   "cell_type": "code",
   "execution_count": null,
   "id": "86dab3c1-a2d1-49c1-80ec-6b288108d526",
   "metadata": {},
   "outputs": [],
   "source": []
  },
  {
   "cell_type": "markdown",
   "id": "a81e563b-2760-4f1c-acd7-d3009c26ea3b",
   "metadata": {},
   "source": [
    "## Q3. In what situations is nominal encoding preferred over one-hot encoding? Provide a practical example."
   ]
  },
  {
   "cell_type": "markdown",
   "id": "d6c7f847-1115-4c65-a5f8-19188e6acd30",
   "metadata": {},
   "source": [
    "Nominal encoding is preferred over one-hot encoding in situations where:\n",
    "\n",
    "* The number of categories in the categorical feature is large.\n",
    "* The order of the categories in the categorical feature is not important.\n",
    "* The goal is to reduce the dimensionality of the dataset.\n",
    "\n",
    "One-hot encoding creates a new binary feature for each category in the categorical feature. This can lead to a significant increase in the dimensionality of the dataset, especially if the categorical feature has a large number of categories.\n",
    "\n",
    "Nominal encoding, on the other hand, only creates a single new feature for the categorical feature. This means that nominal encoding is more efficient than one-hot encoding and can lead to a significant reduction in the dimensionality of the dataset.\n",
    "\n",
    "**Practical example:**\n",
    "\n",
    "A company wants to use a machine learning algorithm to predict customer churn. The company's data contains a categorical feature called \"country\". The country feature has over 200 unique categories.\n",
    "\n",
    "If the company uses one-hot encoding to encode the country feature, it will create over 200 new binary features. This will significantly increase the dimensionality of the dataset and make it more difficult to train the machine learning algorithm.\n",
    "\n",
    "If the company uses nominal encoding to encode the country feature, it will only create a single new feature. This will make the dataset more efficient and easier to train the machine learning algorithm.\n",
    "\n",
    "Another advantage of nominal encoding is that it is easier to interpret the results of machine learning algorithms that have been trained on encoded data.\n",
    "\n",
    "**Conclusion:**\n",
    "\n",
    "Nominal encoding is a good choice for encoding categorical features in situations where the number of categories is large, the order of the categories is not important, and the goal is to reduce the dimensionality of the dataset."
   ]
  },
  {
   "cell_type": "code",
   "execution_count": null,
   "id": "d8f16ce8-2291-4f8b-997d-9c20621d819e",
   "metadata": {},
   "outputs": [],
   "source": []
  },
  {
   "cell_type": "markdown",
   "id": "eee582ad-451a-44d1-a93f-f8d820c94a7c",
   "metadata": {},
   "source": [
    "## Q4. Suppose you have a dataset containing categorical data with 5 unique values. Which encoding\n",
    "## technique would you use to transform this data into a format suitable for machine learning algorithms?\n",
    "## Explain why you made this choice."
   ]
  },
  {
   "cell_type": "markdown",
   "id": "9748930b-6eff-47e8-b923-a59338595acc",
   "metadata": {},
   "source": [
    "If I have a dataset containing categorical data with 5 unique values, I would use **nominal encoding** to transform the data into a format suitable for machine learning algorithms.\n",
    "\n",
    "Nominal encoding is a simple and efficient technique for encoding categorical data. It assigns a unique integer value to each category in the data. For example, if the categorical data has 5 unique values, then nominal encoding would assign the integer values 1, 2, 3, 4, and 5 to the categories.\n",
    "\n",
    "Nominal encoding is a good choice for encoding categorical data with a small number of unique values because it does not increase the dimensionality of the data. In the example above, the nominal encoding would not increase the dimensionality of the data because it would only create a single new feature for the categorical data.\n",
    "\n",
    "One-hot encoding is another common technique for encoding categorical data. However, one-hot encoding is not a good choice for encoding categorical data with a small number of unique values because it can significantly increase the dimensionality of the data. For example, if the categorical data has 5 unique values, then one-hot encoding would create 5 new binary features. This would increase the dimensionality of the data by a factor of 5.\n",
    "\n",
    "**Conclusion:**\n",
    "\n",
    "Nominal encoding is a good choice for encoding categorical data with a small number of unique values because it is simple, efficient, and does not increase the dimensionality of the data."
   ]
  },
  {
   "cell_type": "code",
   "execution_count": 11,
   "id": "ec1cbecf-22f4-4fb0-b7c6-2fd92f7db816",
   "metadata": {},
   "outputs": [
    {
     "name": "stdout",
     "output_type": "stream",
     "text": [
      "[1, 2, 3, 4, 5]\n"
     ]
    }
   ],
   "source": [
    "import numpy as np\n",
    "\n",
    "# Create a dataset containing categorical data with 5 unique values\n",
    "categorical_data = [\"A\", \"B\", \"C\", \"D\", \"E\"]\n",
    "\n",
    "# Encode the categorical data using nominal encoding\n",
    "def nominal_encoding(categorical_data):\n",
    "  \"\"\"Encodes categorical data using nominal encoding.\n",
    "\n",
    "  Args:\n",
    "    categorical_data: A list of categorical values.\n",
    "\n",
    "  Returns:\n",
    "    A list of integer values representing the encoded categorical data.\n",
    "  \"\"\"\n",
    "\n",
    "  # Create a dictionary to map the categories in the categorical data to integer values\n",
    "  category_map = {}\n",
    "  for i in range(len(categorical_data)):\n",
    "    category_map[categorical_data[i]] = i + 1\n",
    "\n",
    "  # Encode the categorical data\n",
    "  encoded_categorical_data = []\n",
    "  for category in categorical_data:\n",
    "    encoded_categorical_data.append(category_map[category])\n",
    "\n",
    "  return encoded_categorical_data\n",
    "\n",
    "# Encode the categorical data\n",
    "encoded_categorical_data = nominal_encoding(categorical_data)\n",
    "\n",
    "# Print the encoded categorical data\n",
    "print(encoded_categorical_data)\n"
   ]
  },
  {
   "cell_type": "code",
   "execution_count": null,
   "id": "a1ebe382-146c-47f9-bbff-53d6d33c3133",
   "metadata": {},
   "outputs": [],
   "source": []
  },
  {
   "cell_type": "markdown",
   "id": "ff97e4ac-d249-46f4-a83e-9329604ec35b",
   "metadata": {},
   "source": [
    "## Q5. In a machine learning project, you have a dataset with 1000 rows and 5 columns. Two of the columns\n",
    "## are categorical, and the remaining three columns are numerical. If you were to use nominal encoding to\n",
    "## transform the categorical data, how many new columns would be created? Show your calculations."
   ]
  },
  {
   "cell_type": "markdown",
   "id": "dde8e7b0-c16c-42a8-a5fa-ac53df0614c2",
   "metadata": {},
   "source": [
    "If you were to use nominal encoding to transform the categorical data in a dataset with 1000 rows and 5 columns, two of which are categorical, and the remaining three columns are numerical, then you would create **two new columns**.\n",
    "\n",
    "This is because you would need to create a new column for each categorical feature. For example, if the two categorical features are \"gender\" and \"country\", then you would need to create two new columns: \"gender_encoded\" and \"country_encoded\".\n",
    "\n",
    "The following table shows an example of how the data would be transformed after nominal encoding:\n",
    "\n",
    "Original data | Encoded data\n",
    "------- | --------\n",
    "gender | gender_encoded\n",
    "country | country_encoded\n",
    "numerical_feature_1 | numerical_feature_1\n",
    "numerical_feature_2 | numerical_feature_2\n",
    "numerical_feature_3 | numerical_feature_3\n",
    "\n",
    "As you can see, the encoded data has two new columns, one for each categorical feature.\n",
    "\n",
    "**Calculations:**\n",
    "\n",
    "Number of new columns created = Number of categorical features\n",
    "\n",
    "In this case, there are two categorical features, so two new columns would be created."
   ]
  },
  {
   "cell_type": "code",
   "execution_count": null,
   "id": "9d3fe82b-6307-455c-9aff-96aecddc15d3",
   "metadata": {},
   "outputs": [],
   "source": []
  },
  {
   "cell_type": "markdown",
   "id": "d77ef266-8a11-4126-82a0-6dcff925e639",
   "metadata": {},
   "source": [
    "## Q6. You are working with a dataset containing information about different types of animals, including their\n",
    "## species, habitat, and diet. Which encoding technique would you use to transform the categorical data into\n",
    "## a format suitable for machine learning algorithms? Justify your answer."
   ]
  },
  {
   "cell_type": "markdown",
   "id": "5bebcabd-7d60-446b-8ce3-75f7e7a6d747",
   "metadata": {},
   "source": [
    "I would use **nominal encoding** to transform the categorical data in the animal dataset into a format suitable for machine learning algorithms.\n",
    "\n",
    "Nominal encoding is a simple and efficient technique for encoding categorical data. It assigns a unique integer value to each category in the data. For example, if the categorical feature \"species\" has 50 unique categories, then nominal encoding would assign the integer values 1, 2, 3, ..., 50 to the categories.\n",
    "\n",
    "Nominal encoding is a good choice for encoding categorical data with a small number of unique categories, such as the animal dataset. This is because nominal encoding does not increase the dimensionality of the data. In the example above, the nominal encoding would not increase the dimensionality of the data because it would only create a single new feature for the categorical feature \"species\".\n",
    "\n",
    "One-hot encoding is another common technique for encoding categorical data. However, one-hot encoding is not a good choice for encoding categorical data with a small number of unique categories, such as the animal dataset. This is because one-hot encoding can significantly increase the dimensionality of the data. For example, if the categorical feature \"species\" has 50 unique categories, then one-hot encoding would create 50 new binary features. This would increase the dimensionality of the data by a factor of 50.\n",
    "\n",
    "In addition, nominal encoding is easier to interpret than one-hot encoding. This is because the integer values assigned by nominal encoding have a direct correspondence to the categories in the data. For example, in the animal dataset, the integer value 1 assigned by nominal encoding to the species \"dog\" directly corresponds to the category \"dog\".\n",
    "\n",
    "In conclusion, I would use nominal encoding to transform the categorical data in the animal dataset into a format suitable for machine learning algorithms. This is because nominal encoding is a simple, efficient, and interpretable technique for encoding categorical data with a small number of unique categories."
   ]
  },
  {
   "cell_type": "code",
   "execution_count": 20,
   "id": "f97dc8f1-e4a1-4c23-a209-593bc593e2bd",
   "metadata": {},
   "outputs": [
    {
     "name": "stdout",
     "output_type": "stream",
     "text": [
      "  species habitat diet\n",
      "0       5       5    5\n",
      "1       2       5    5\n",
      "2       3       3    3\n",
      "3       4       4    4\n",
      "4       5       5    5\n"
     ]
    }
   ],
   "source": [
    "import pandas as pd\n",
    "\n",
    "# Create a sample dataset\n",
    "df = pd.DataFrame({\n",
    "    \"species\": [\"dog\", \"cat\", \"bird\", \"fish\", \"dog\"],\n",
    "    \"habitat\": [\"land\", \"land\", \"air\", \"water\", \"land\"],\n",
    "    \"diet\": [\"meat\", \"meat\", \"insects\", \"algae\", \"meat\"]\n",
    "})\n",
    "\n",
    "# Encode the categorical features using nominal encoding\n",
    "def nominal_encoding(df, categorical_features):\n",
    "  \"\"\"Encodes categorical features using nominal encoding.\n",
    "\n",
    "  Args:\n",
    "    df: A Pandas DataFrame containing the data to be encoded.\n",
    "    categorical_features: A list of the categorical features to encode.\n",
    "\n",
    "  Returns:\n",
    "    A Pandas DataFrame containing the encoded data.\n",
    "  \"\"\"\n",
    "\n",
    "  # Create a dictionary to map the categories in the categorical features to integer values\n",
    "  category_maps = {}\n",
    "  for categorical_feature in categorical_features:\n",
    "    category_map = {}\n",
    "    for i in range(len(df[categorical_feature])):\n",
    "      category_map[df[categorical_feature].iloc[i]] = i + 1\n",
    "    category_maps[categorical_feature] = category_map\n",
    "\n",
    "  # Encode the categorical features\n",
    "  encoded_df = df.copy()\n",
    "  for categorical_feature in categorical_features:\n",
    "    for i in range(len(df[categorical_feature])):\n",
    "      encoded_df[categorical_feature].iloc[i] = category_maps[categorical_feature][df[categorical_feature].iloc[i]]\n",
    "\n",
    "  return encoded_df\n",
    "\n",
    "# Encode the categorical features\n",
    "encoded_df = nominal_encoding(df, [\"species\", \"habitat\", \"diet\"])\n",
    "\n",
    "# Print the encoded data\n",
    "print(encoded_df)\n"
   ]
  },
  {
   "cell_type": "code",
   "execution_count": null,
   "id": "20026455-2e79-4e88-bf93-66824afbb3e4",
   "metadata": {},
   "outputs": [],
   "source": []
  },
  {
   "cell_type": "markdown",
   "id": "216880f2-b3cc-470a-916f-ff96c5c130ff",
   "metadata": {},
   "source": [
    "## Q7.You are working on a project that involves predicting customer churn for a telecommunications\n",
    "## company. You have a dataset with 5 features, including the customer's gender, age, contract type,\n",
    "## monthly charges, and tenure. Which encoding technique(s) would you use to transform the categorical\n",
    "## data into numerical data? Provide a step-by-step explanation of how you would implement the encoding."
   ]
  },
  {
   "cell_type": "markdown",
   "id": "7f55c6c6-cd1e-4b53-af7c-5092a18a9984",
   "metadata": {},
   "source": [
    "\n",
    "To encode the categorical data in the customer churn dataset, I would use the following steps:\n",
    "\n",
    "Identify the categorical features. The categorical features in the dataset are:\n",
    "Gender\n",
    "Contract type\n",
    "One-hot encode the categorical features. One-hot encoding is a simple and efficient way to encode categorical data with a small number of unique categories. It works by creating a new binary feature for each category in the data. For example, the categorical feature \"gender\" has two unique categories: \"male\" and \"female\". One-hot encoding would create two new binary features for this feature: gender_male and gender_female. The gender_male feature would be set to 1 for customers who are male, and 0 for customers who are female. The gender_female feature would be set to 1 for customers who are female, and 0 for customers who are male."
   ]
  },
  {
   "cell_type": "code",
   "execution_count": 21,
   "id": "2f03d46b-8712-4bf8-bb5d-8f13041eada4",
   "metadata": {},
   "outputs": [
    {
     "name": "stdout",
     "output_type": "stream",
     "text": [
      "   age  monthly_charges  tenure  gender_female  gender_male  \\\n",
      "0   25               20       1              0            1   \n",
      "1   30               30       2              1            0   \n",
      "2   35               40       3              0            1   \n",
      "3   40               50       4              1            0   \n",
      "4   45               60       5              0            1   \n",
      "\n",
      "   contract_type_postpaid  contract_type_prepaid  \n",
      "0                       0                      1  \n",
      "1                       1                      0  \n",
      "2                       1                      0  \n",
      "3                       0                      1  \n",
      "4                       1                      0  \n"
     ]
    }
   ],
   "source": [
    "import pandas as pd\n",
    "\n",
    "# Create a sample dataset\n",
    "df = pd.DataFrame({\n",
    "    \"gender\": [\"male\", \"female\", \"male\", \"female\", \"male\"],\n",
    "    \"age\": [25, 30, 35, 40, 45],\n",
    "    \"contract_type\": [\"prepaid\", \"postpaid\", \"postpaid\", \"prepaid\", \"postpaid\"],\n",
    "    \"monthly_charges\": [20, 30, 40, 50, 60],\n",
    "    \"tenure\": [1, 2, 3, 4, 5]\n",
    "})\n",
    "\n",
    "# One-hot encode the categorical features\n",
    "def one_hot_encode(df, categorical_features):\n",
    "  \"\"\"One-hot encodes categorical features.\n",
    "\n",
    "  Args:\n",
    "    df: A Pandas DataFrame containing the data to be encoded.\n",
    "    categorical_features: A list of the categorical features to encode.\n",
    "\n",
    "  Returns:\n",
    "    A Pandas DataFrame containing the encoded data.\n",
    "  \"\"\"\n",
    "\n",
    "  encoded_df = df.copy()\n",
    "  for categorical_feature in categorical_features:\n",
    "    dummies = pd.get_dummies(df[categorical_feature], prefix=categorical_feature)\n",
    "    encoded_df = pd.concat([encoded_df, dummies], axis=1)\n",
    "    encoded_df.drop(categorical_feature, axis=1, inplace=True)\n",
    "\n",
    "  return encoded_df\n",
    "\n",
    "# One-hot encode the categorical features\n",
    "encoded_df = one_hot_encode(df, [\"gender\", \"contract_type\"])\n",
    "\n",
    "# Print the encoded data\n",
    "print(encoded_df)\n"
   ]
  }
 ],
 "metadata": {
  "kernelspec": {
   "display_name": "Python 3 (ipykernel)",
   "language": "python",
   "name": "python3"
  },
  "language_info": {
   "codemirror_mode": {
    "name": "ipython",
    "version": 3
   },
   "file_extension": ".py",
   "mimetype": "text/x-python",
   "name": "python",
   "nbconvert_exporter": "python",
   "pygments_lexer": "ipython3",
   "version": "3.10.8"
  }
 },
 "nbformat": 4,
 "nbformat_minor": 5
}
